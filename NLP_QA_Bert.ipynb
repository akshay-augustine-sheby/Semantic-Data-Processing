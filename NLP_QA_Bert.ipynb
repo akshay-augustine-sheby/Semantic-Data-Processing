{
 "cells": [
  {
   "cell_type": "code",
   "execution_count": 2,
   "id": "33cc0c59-ec27-4f85-a393-e58e24201345",
   "metadata": {},
   "outputs": [
    {
     "name": "stderr",
     "output_type": "stream",
     "text": [
      "A parameter name that contains `beta` will be renamed internally to `bias`. Please use a different name to suppress this warning.\n",
      "A parameter name that contains `gamma` will be renamed internally to `weight`. Please use a different name to suppress this warning.\n",
      "A parameter name that contains `beta` will be renamed internally to `bias`. Please use a different name to suppress this warning.\n",
      "A parameter name that contains `gamma` will be renamed internally to `weight`. Please use a different name to suppress this warning.\n",
      "A parameter name that contains `beta` will be renamed internally to `bias`. Please use a different name to suppress this warning.\n",
      "A parameter name that contains `gamma` will be renamed internally to `weight`. Please use a different name to suppress this warning.\n",
      "A parameter name that contains `beta` will be renamed internally to `bias`. Please use a different name to suppress this warning.\n",
      "A parameter name that contains `gamma` will be renamed internally to `weight`. Please use a different name to suppress this warning.\n",
      "A parameter name that contains `beta` will be renamed internally to `bias`. Please use a different name to suppress this warning.\n",
      "A parameter name that contains `gamma` will be renamed internally to `weight`. Please use a different name to suppress this warning.\n",
      "A parameter name that contains `beta` will be renamed internally to `bias`. Please use a different name to suppress this warning.\n",
      "A parameter name that contains `gamma` will be renamed internally to `weight`. Please use a different name to suppress this warning.\n",
      "A parameter name that contains `beta` will be renamed internally to `bias`. Please use a different name to suppress this warning.\n",
      "A parameter name that contains `gamma` will be renamed internally to `weight`. Please use a different name to suppress this warning.\n",
      "A parameter name that contains `beta` will be renamed internally to `bias`. Please use a different name to suppress this warning.\n",
      "A parameter name that contains `gamma` will be renamed internally to `weight`. Please use a different name to suppress this warning.\n",
      "A parameter name that contains `beta` will be renamed internally to `bias`. Please use a different name to suppress this warning.\n",
      "A parameter name that contains `gamma` will be renamed internally to `weight`. Please use a different name to suppress this warning.\n",
      "A parameter name that contains `beta` will be renamed internally to `bias`. Please use a different name to suppress this warning.\n",
      "A parameter name that contains `gamma` will be renamed internally to `weight`. Please use a different name to suppress this warning.\n",
      "A parameter name that contains `beta` will be renamed internally to `bias`. Please use a different name to suppress this warning.\n",
      "A parameter name that contains `gamma` will be renamed internally to `weight`. Please use a different name to suppress this warning.\n",
      "A parameter name that contains `beta` will be renamed internally to `bias`. Please use a different name to suppress this warning.\n",
      "A parameter name that contains `gamma` will be renamed internally to `weight`. Please use a different name to suppress this warning.\n",
      "A parameter name that contains `beta` will be renamed internally to `bias`. Please use a different name to suppress this warning.\n",
      "A parameter name that contains `gamma` will be renamed internally to `weight`. Please use a different name to suppress this warning.\n",
      "A parameter name that contains `beta` will be renamed internally to `bias`. Please use a different name to suppress this warning.\n",
      "A parameter name that contains `gamma` will be renamed internally to `weight`. Please use a different name to suppress this warning.\n",
      "A parameter name that contains `beta` will be renamed internally to `bias`. Please use a different name to suppress this warning.\n",
      "A parameter name that contains `gamma` will be renamed internally to `weight`. Please use a different name to suppress this warning.\n",
      "A parameter name that contains `beta` will be renamed internally to `bias`. Please use a different name to suppress this warning.\n",
      "A parameter name that contains `gamma` will be renamed internally to `weight`. Please use a different name to suppress this warning.\n",
      "A parameter name that contains `beta` will be renamed internally to `bias`. Please use a different name to suppress this warning.\n",
      "A parameter name that contains `gamma` will be renamed internally to `weight`. Please use a different name to suppress this warning.\n",
      "A parameter name that contains `beta` will be renamed internally to `bias`. Please use a different name to suppress this warning.\n",
      "A parameter name that contains `gamma` will be renamed internally to `weight`. Please use a different name to suppress this warning.\n",
      "A parameter name that contains `beta` will be renamed internally to `bias`. Please use a different name to suppress this warning.\n",
      "A parameter name that contains `gamma` will be renamed internally to `weight`. Please use a different name to suppress this warning.\n",
      "A parameter name that contains `beta` will be renamed internally to `bias`. Please use a different name to suppress this warning.\n",
      "A parameter name that contains `gamma` will be renamed internally to `weight`. Please use a different name to suppress this warning.\n",
      "A parameter name that contains `beta` will be renamed internally to `bias`. Please use a different name to suppress this warning.\n",
      "A parameter name that contains `gamma` will be renamed internally to `weight`. Please use a different name to suppress this warning.\n",
      "A parameter name that contains `beta` will be renamed internally to `bias`. Please use a different name to suppress this warning.\n",
      "A parameter name that contains `gamma` will be renamed internally to `weight`. Please use a different name to suppress this warning.\n",
      "A parameter name that contains `beta` will be renamed internally to `bias`. Please use a different name to suppress this warning.\n",
      "A parameter name that contains `gamma` will be renamed internally to `weight`. Please use a different name to suppress this warning.\n",
      "A parameter name that contains `beta` will be renamed internally to `bias`. Please use a different name to suppress this warning.\n",
      "A parameter name that contains `gamma` will be renamed internally to `weight`. Please use a different name to suppress this warning.\n",
      "A parameter name that contains `beta` will be renamed internally to `bias`. Please use a different name to suppress this warning.\n",
      "A parameter name that contains `gamma` will be renamed internally to `weight`. Please use a different name to suppress this warning.\n",
      "A parameter name that contains `beta` will be renamed internally to `bias`. Please use a different name to suppress this warning.\n",
      "A parameter name that contains `gamma` will be renamed internally to `weight`. Please use a different name to suppress this warning.\n",
      "Some weights of BertForQuestionAnswering were not initialized from the model checkpoint at bert-base-uncased and are newly initialized: ['qa_outputs.bias', 'qa_outputs.weight']\n",
      "You should probably TRAIN this model on a down-stream task to be able to use it for predictions and inference.\n"
     ]
    },
    {
     "data": {
      "application/vnd.jupyter.widget-view+json": {
       "model_id": "edb2981280aa4da19c18bb2dcd95e8f9",
       "version_major": 2,
       "version_minor": 0
      },
      "text/plain": [
       "Map:   0%|          | 0/87599 [00:00<?, ? examples/s]"
      ]
     },
     "metadata": {},
     "output_type": "display_data"
    },
    {
     "data": {
      "application/vnd.jupyter.widget-view+json": {
       "model_id": "fba86f7a08ff43a2b97444038d0d3a4d",
       "version_major": 2,
       "version_minor": 0
      },
      "text/plain": [
       "Map:   0%|          | 0/10570 [00:00<?, ? examples/s]"
      ]
     },
     "metadata": {},
     "output_type": "display_data"
    },
    {
     "name": "stderr",
     "output_type": "stream",
     "text": [
      "/Users/akshayaugustinesheby/miniconda3/envs/torch/lib/python3.9/site-packages/transformers/optimization.py:591: FutureWarning: This implementation of AdamW is deprecated and will be removed in a future version. Use the PyTorch implementation torch.optim.AdamW instead, or set `no_deprecation_warning=True` to disable this warning\n",
      "  warnings.warn(\n",
      "/Users/akshayaugustinesheby/miniconda3/envs/torch/lib/python3.9/site-packages/torch/cuda/amp/grad_scaler.py:120: UserWarning: torch.cuda.amp.GradScaler is enabled, but CUDA is not available.  Disabling.\n",
      "  warnings.warn(\"torch.cuda.amp.GradScaler is enabled, but CUDA is not available.  Disabling.\")\n",
      "/Users/akshayaugustinesheby/miniconda3/envs/torch/lib/python3.9/site-packages/torch/amp/autocast_mode.py:221: UserWarning: User provided device_type of 'cuda', but CUDA is not available. Disabling\n",
      "  warnings.warn('User provided device_type of \\'cuda\\', but CUDA is not available. Disabling')\n",
      "/Users/akshayaugustinesheby/miniconda3/envs/torch/lib/python3.9/site-packages/torch/amp/autocast_mode.py:221: UserWarning: User provided device_type of 'cuda', but CUDA is not available. Disabling\n",
      "  warnings.warn('User provided device_type of \\'cuda\\', but CUDA is not available. Disabling')\n"
     ]
    },
    {
     "name": "stdout",
     "output_type": "stream",
     "text": [
      "Epoch 1 - Train Loss: 3.908739611625671, Train Accuracy: 3.85%\n",
      "Valid Loss: 2.78775933265686, Valid Accuracy: 17.5%\n",
      "Epoch 2 - Train Loss: 1.7942372760772705, Train Accuracy: 38.5%\n",
      "Valid Loss: 2.055714511871338, Valid Accuracy: 35.5%\n",
      "Epoch 3 - Train Loss: 0.674291447520256, Train Accuracy: 72.0%\n",
      "Valid Loss: 2.289714093208313, Valid Accuracy: 35.0%\n",
      "Epoch 4 - Train Loss: 0.4520387548208237, Train Accuracy: 82.6%\n",
      "Valid Loss: 2.289714093208313, Valid Accuracy: 35.0%\n",
      "Early stopping at epoch 4\n",
      "Total training time: 3h 13m 15s\n"
     ]
    },
    {
     "data": {
      "image/png": "[encoded data removed]",
      "text/plain": [
       "<Figure size 1200x500 with 2 Axes>"
      ]
     },
     "metadata": {},
     "output_type": "display_data"
    }
   ],
   "source": [
    "import torch\n",
    "from torch.utils.data import DataLoader, Dataset, random_split\n",
    "from transformers import BertTokenizerFast, BertForQuestionAnswering, AdamW, get_linear_schedule_with_warmup\n",
    "from datasets import load_dataset\n",
    "import matplotlib.pyplot as plt\n",
    "import time\n",
    "\n",
    "# SQuAD dataset\n",
    "squad_dataset = load_dataset('squad')\n",
    "\n",
    "# Pre-trained BERT model and tokenizer\n",
    "tokenizer = BertTokenizerFast.from_pretrained('bert-base-uncased')\n",
    "model = BertForQuestionAnswering.from_pretrained('bert-base-uncased')\n",
    "\n",
    "# Tokenization function with sliding window approach\n",
    "def encode_examples(examples):\n",
    "    inputs = tokenizer(\n",
    "        examples['question'],\n",
    "        examples['context'],\n",
    "        truncation='only_second',\n",
    "        padding='max_length',\n",
    "        max_length=384,\n",
    "        stride=128,\n",
    "        return_overflowing_tokens=True,\n",
    "        return_offsets_mapping=True,\n",
    "        return_tensors='pt'\n",
    "    )\n",
    "    \n",
    "    offset_mapping = inputs.pop('offset_mapping')\n",
    "    sample_mapping = inputs.pop('overflow_to_sample_mapping')\n",
    "    \n",
    "    start_positions = []\n",
    "    end_positions = []\n",
    "\n",
    "    for i, offsets in enumerate(offset_mapping):\n",
    "        input_ids = inputs['input_ids'][i]\n",
    "        sample_index = sample_mapping[i]\n",
    "        answers = examples['answers'][sample_index]\n",
    "        if len(answers['answer_start']) == 0:\n",
    "            start_positions.append(0)\n",
    "            end_positions.append(0)\n",
    "        else:\n",
    "            start_char = answers['answer_start'][0]\n",
    "            end_char = start_char + len(answers['text'][0])\n",
    "            sequence_ids = inputs.sequence_ids(i)\n",
    "\n",
    "            context_start = sequence_ids.index(1)\n",
    "            context_end = len(sequence_ids) - 1 - sequence_ids[::-1].index(1)\n",
    "\n",
    "            token_start_index = context_start\n",
    "            while token_start_index <= context_end and offsets[token_start_index][0] <= start_char:\n",
    "                token_start_index += 1\n",
    "            start_positions.append(token_start_index - 1)\n",
    "\n",
    "            token_end_index = context_end\n",
    "            while token_end_index >= context_start and offsets[token_end_index][1] >= end_char:\n",
    "                token_end_index -= 1\n",
    "            end_positions.append(token_end_index + 1)\n",
    "\n",
    "    inputs['start_positions'] = torch.tensor(start_positions)\n",
    "    inputs['end_positions'] = torch.tensor(end_positions)\n",
    "    \n",
    "    return inputs\n",
    "\n",
    "# Apply the tokenization function to the dataset\n",
    "encoded_dataset = squad_dataset.map(encode_examples, batched=True, remove_columns=squad_dataset['train'].column_names)\n",
    "\n",
    "class SquadDataset(Dataset):\n",
    "    def __init__(self, encoded_dataset):\n",
    "        self.dataset = encoded_dataset\n",
    "\n",
    "    def __len__(self):\n",
    "        return len(self.dataset)\n",
    "\n",
    "    def __getitem__(self, idx):\n",
    "        return {key: torch.tensor(self.dataset[key][idx]) for key in self.dataset.column_names}\n",
    "\n",
    "sampled_size = 2000\n",
    "train_val_split = encoded_dataset['train'].train_test_split(test_size=0.1)\n",
    "sampled_train = train_val_split['train'].select(range(sampled_size))\n",
    "sampled_val = train_val_split['test'].select(range(int(sampled_size * 0.1)))\n",
    "\n",
    "train_dataset = SquadDataset(sampled_train)\n",
    "val_dataset = SquadDataset(sampled_val)\n",
    "\n",
    "train_loader = DataLoader(train_dataset, batch_size=8, shuffle=True)\n",
    "val_loader = DataLoader(val_dataset, batch_size=8)\n",
    "\n",
    "device = torch.device('cuda') if torch.cuda.is_available() else torch.device('cpu')\n",
    "model.to(device)\n",
    "\n",
    "# Training\n",
    "optimizer = AdamW(model.parameters(), lr=0.00002)\n",
    "total_steps = len(train_loader) * 3 \n",
    "scheduler = get_linear_schedule_with_warmup(optimizer, num_warmup_steps=0, num_training_steps=total_steps)\n",
    "\n",
    "# Mixed precision training scaler\n",
    "scaler = torch.cuda.amp.GradScaler()\n",
    "\n",
    "early_stopping_patience = 2\n",
    "best_val_loss = float('inf')\n",
    "patience_counter = 0\n",
    "\n",
    "train_losses = []\n",
    "train_accuracies = []\n",
    "val_losses = []\n",
    "val_accuracies = []\n",
    "\n",
    "# Record start time\n",
    "start_time = time.time()\n",
    "\n",
    "epochs = 8\n",
    "model.train()\n",
    "\n",
    "for epoch in range(epochs):\n",
    "    total_train_loss = 0\n",
    "    correct_predictions = 0\n",
    "    total_predictions = 0\n",
    "    \n",
    "    for batch in train_loader:\n",
    "        optimizer.zero_grad()\n",
    "        \n",
    "        input_ids = batch['input_ids'].to(device)\n",
    "        attention_mask = batch['attention_mask'].to(device)\n",
    "        start_positions = batch['start_positions'].to(device)\n",
    "        end_positions = batch['end_positions'].to(device)\n",
    "\n",
    "        with torch.cuda.amp.autocast():\n",
    "            outputs = model(input_ids, attention_mask=attention_mask, start_positions=start_positions, end_positions=end_positions)\n",
    "            loss = outputs.loss\n",
    "        \n",
    "        scaler.scale(loss).backward()\n",
    "        scaler.step(optimizer)\n",
    "        scaler.update()\n",
    "        scheduler.step()\n",
    "\n",
    "        total_train_loss += loss.item()\n",
    "        \n",
    "        start_preds = torch.argmax(outputs.start_logits, dim=1)\n",
    "        end_preds = torch.argmax(outputs.end_logits, dim=1)\n",
    "        \n",
    "        correct_predictions += ((start_preds == start_positions) & (end_preds == end_positions)).sum().item()\n",
    "        total_predictions += input_ids.size(0)\n",
    "    \n",
    "    avg_train_loss = total_train_loss / len(train_loader)\n",
    "    train_accuracy = (correct_predictions / total_predictions) * 100\n",
    "    train_losses.append(avg_train_loss)\n",
    "    train_accuracies.append(train_accuracy)\n",
    "    print(f\"Epoch {epoch+1} - Train Loss: {avg_train_loss}, Train Accuracy: {train_accuracy}%\")\n",
    "    \n",
    "    # Evaluation\n",
    "    model.eval()\n",
    "    eval_loss = 0.0\n",
    "    correct_predictions = 0\n",
    "    total_predictions = 0\n",
    "\n",
    "    with torch.no_grad():\n",
    "        for batch in val_loader:\n",
    "            input_ids = batch['input_ids'].to(device)\n",
    "            attention_mask = batch['attention_mask'].to(device)\n",
    "            start_positions = batch['start_positions'].to(device)\n",
    "            end_positions = batch['end_positions'].to(device)\n",
    "\n",
    "            with torch.cuda.amp.autocast():\n",
    "                outputs = model(input_ids, attention_mask=attention_mask, start_positions=start_positions, end_positions=end_positions)\n",
    "                loss = outputs.loss\n",
    "            \n",
    "            eval_loss += loss.item()\n",
    "            \n",
    "            start_preds = torch.argmax(outputs.start_logits, dim=1)\n",
    "            end_preds = torch.argmax(outputs.end_logits, dim=1)\n",
    "            \n",
    "            correct_predictions += ((start_preds == start_positions) & (end_preds == end_positions)).sum().item()\n",
    "            total_predictions += input_ids.size(0)\n",
    "\n",
    "    avg_eval_loss = eval_loss / len(val_loader)\n",
    "    eval_accuracy = (correct_predictions / total_predictions) * 100\n",
    "    val_losses.append(avg_eval_loss)\n",
    "    val_accuracies.append(eval_accuracy)\n",
    "    print(f\"Valid Loss: {avg_eval_loss}, Valid Accuracy: {eval_accuracy}%\")\n",
    "\n",
    "    if avg_eval_loss < best_val_loss:\n",
    "        best_val_loss = avg_eval_loss\n",
    "        patience_counter = 0\n",
    "    else:\n",
    "        patience_counter += 1\n",
    "        if patience_counter >= early_stopping_patience:\n",
    "            print(f\"Early stopping at epoch {epoch+1}\")\n",
    "            break\n",
    "\n",
    "# Record the end time\n",
    "end_time = time.time()\n",
    "\n",
    "total_time = end_time - start_time\n",
    "hours, remainder = divmod(total_time, 3600)\n",
    "minutes, seconds = divmod(remainder, 60)\n",
    "print(f\"Total training time: {int(hours)}h {int(minutes)}m {int(seconds)}s\")\n",
    "\n",
    "plt.figure(figsize=(12, 5))\n",
    "\n",
    "plt.subplot(1, 2, 1)\n",
    "plt.plot(train_losses, label='Training Loss')\n",
    "plt.plot(val_losses, label='Validation Loss')\n",
    "plt.xlabel('Epochs')\n",
    "plt.ylabel('Loss')\n",
    "plt.legend()\n",
    "plt.title('Training and Validation Loss')\n",
    "\n",
    "plt.subplot(1, 2, 2)\n",
    "plt.plot(train_accuracies, label='Training Accuracy')\n",
    "plt.plot(val_accuracies, label='Validation Accuracy')\n",
    "plt.xlabel('Epochs')\n",
    "plt.ylabel('Accuracy')\n",
    "plt.legend()\n",
    "plt.title('Training and Validation Accuracy')\n",
    "\n",
    "plt.show()"
   ]
  },
  {
   "cell_type": "code",
   "execution_count": 3,
   "id": "bfb65153-a3e0-4418-b48f-7096876ba653",
   "metadata": {},
   "outputs": [
    {
     "name": "stdout",
     "output_type": "stream",
     "text": [
      "Question: Who is the shooter?\n",
      "Answer: 20 - year - old man\n"
     ]
    }
   ],
   "source": [
    "def answer_question(question, context):\n",
    "    model.eval()\n",
    "    inputs = tokenizer(question, context, return_tensors='pt', max_length=384, truncation=True, padding='max_length').to(device)\n",
    "    with torch.no_grad():\n",
    "        outputs = model(**inputs)\n",
    "    \n",
    "    answer_start = torch.argmax(outputs.start_logits)\n",
    "    answer_end = torch.argmax(outputs.end_logits)\n",
    "    \n",
    "    answer = tokenizer.convert_tokens_to_string(tokenizer.convert_ids_to_tokens(inputs['input_ids'][0][answer_start:answer_end+1]))\n",
    "    return answer\n",
    "\n",
    "question = \"Who is the shooter?\"\n",
    "context = \"Former President Donald Trump was shot and injured in an assassination attempt on Saturday night that also killed a spectator and critically injured two others. Snipers killed the shooter, a 20-year-old man, after he fired eight rounds at the rally in Butler, Pennsylvania. The former president could be seen touching his ear as the shooting unfolded before he was shielded by Secret Service and whisked offstage — with blood on his face — and into an SUV to safety. Trump said in a social media post that a bullet pierced the upper part of his right ear.\"\n",
    "print(f\"Question: {question}\")\n",
    "print(f\"Answer: {answer_question(question, context)}\")"
   ]
  },
  {
   "cell_type": "code",
   "execution_count": 4,
   "id": "7eef9ae0-fdcc-4e3c-9711-4bdf3b31675b",
   "metadata": {},
   "outputs": [
    {
     "name": "stdout",
     "output_type": "stream",
     "text": [
      "Question: Who got attacked here?\n",
      "Answer: 20 - year - old man\n"
     ]
    }
   ],
   "source": [
    "question = \"Who got attacked here?\"\n",
    "print(f\"Question: {question}\")\n",
    "print(f\"Answer: {answer_question(question, context)}\")"
   ]
  },
  {
   "cell_type": "code",
   "execution_count": 5,
   "id": "bd0af582-4c6e-4153-8f93-a8035aa81d2f",
   "metadata": {},
   "outputs": [
    {
     "name": "stdout",
     "output_type": "stream",
     "text": [
      "Question: Who killed the shooter?\n",
      "Answer: snipers\n"
     ]
    }
   ],
   "source": [
    "question = \"Who killed the shooter?\"\n",
    "print(f\"Question: {question}\")\n",
    "print(f\"Answer: {answer_question(question, context)}\")"
   ]
  },
  {
   "cell_type": "code",
   "execution_count": 6,
   "id": "26ce025a-e81a-4cab-82a3-daf1dfdcba6d",
   "metadata": {},
   "outputs": [
    {
     "name": "stdout",
     "output_type": "stream",
     "text": [
      "Question: When this incident happened?\n",
      "Answer: 20 - year - old man, after he fired eight rounds at the rally in butler, pennsylvania. the former president could be seen touching his ear as the shooting unfolded before he was shielded by secret service\n"
     ]
    }
   ],
   "source": [
    "question = \"When this incident happened?\"\n",
    "print(f\"Question: {question}\")\n",
    "print(f\"Answer: {answer_question(question, context)}\")"
   ]
  },
  {
   "cell_type": "code",
   "execution_count": 7,
   "id": "d5b8822f-46d7-4f70-bed4-a71fc22c5f9b",
   "metadata": {},
   "outputs": [
    {
     "name": "stdout",
     "output_type": "stream",
     "text": [
      "Question: What happened to Donald Trump?\n",
      "Answer: snipers killed the shooter, a 20 - year - old man\n"
     ]
    }
   ],
   "source": [
    "question = \"What happened to Donald Trump?\"\n",
    "print(f\"Question: {question}\")\n",
    "print(f\"Answer: {answer_question(question, context)}\")"
   ]
  },
  {
   "cell_type": "code",
   "execution_count": 10,
   "id": "d459b32c-019b-4597-b087-b1824b349f9a",
   "metadata": {},
   "outputs": [
    {
     "name": "stdout",
     "output_type": "stream",
     "text": [
      "Question: What Donald Trump shared in social media?\n",
      "Answer: a bullet pierced the upper part of his right ear\n"
     ]
    }
   ],
   "source": [
    "question = \"What Donald Trump shared in social media?\"\n",
    "print(f\"Question: {question}\")\n",
    "print(f\"Answer: {answer_question(question, context)}\")"
   ]
  },
  {
   "cell_type": "code",
   "execution_count": 8,
   "id": "6b5f64ca-2008-418b-9462-b6a11146d063",
   "metadata": {},
   "outputs": [
    {
     "name": "stdout",
     "output_type": "stream",
     "text": [
      "Evaluation - F1 Score: 0.43496578802426744, Exact Match: 0.355\n"
     ]
    }
   ],
   "source": [
    "model.eval()\n",
    "correct_predictions = 0\n",
    "total_predictions = 0\n",
    "\n",
    "def compute_f1(preds, labels):\n",
    "    common = set(preds) & set(labels)\n",
    "    if len(common) == 0:\n",
    "        return 0.0\n",
    "    precision = len(common) / len(preds)\n",
    "    recall = len(common) / len(labels)\n",
    "    f1 = 2 * (precision * recall) / (precision + recall)\n",
    "    return f1\n",
    "\n",
    "def compute_exact(preds, labels):\n",
    "    return int(preds == labels)\n",
    "\n",
    "total_f1 = 0.0\n",
    "total_em = 0.0\n",
    "\n",
    "with torch.no_grad():\n",
    "    for batch in val_loader:\n",
    "        input_ids = batch['input_ids'].to(device)\n",
    "        attention_mask = batch['attention_mask'].to(device)\n",
    "        start_positions = batch['start_positions'].to(device)\n",
    "        end_positions = batch['end_positions'].to(device)\n",
    "\n",
    "        with torch.cuda.amp.autocast():\n",
    "            outputs = model(input_ids, attention_mask=attention_mask, start_positions=start_positions, end_positions=end_positions)\n",
    "        \n",
    "        start_preds = torch.argmax(outputs.start_logits, dim=1)\n",
    "        end_preds = torch.argmax(outputs.end_logits, dim=1)\n",
    "\n",
    "        for i in range(len(start_preds)):\n",
    "            pred_span = input_ids[i][start_preds[i]:end_preds[i]+1]\n",
    "            true_span = input_ids[i][start_positions[i]:end_positions[i]+1]\n",
    "\n",
    "            pred_tokens = tokenizer.convert_ids_to_tokens(pred_span.cpu().numpy())\n",
    "            true_tokens = tokenizer.convert_ids_to_tokens(true_span.cpu().numpy())\n",
    "\n",
    "            pred_answer = tokenizer.convert_tokens_to_string(pred_tokens)\n",
    "            true_answer = tokenizer.convert_tokens_to_string(true_tokens)\n",
    "\n",
    "            total_f1 += compute_f1(pred_answer, true_answer)\n",
    "            total_em += compute_exact(pred_answer, true_answer)\n",
    "\n",
    "        correct_predictions += ((start_preds == start_positions) & (end_preds == end_positions)).sum().item()\n",
    "        total_predictions += input_ids.size(0)\n",
    "\n",
    "avg_f1 = total_f1 / total_predictions\n",
    "avg_em = total_em / total_predictions\n",
    "\n",
    "print(f\"Evaluation - F1 Score: {avg_f1}, Exact Match: {avg_em}\")"
   ]
  },
  {
   "cell_type": "code",
   "execution_count": null,
   "id": "1f8ee443-b4b4-46d4-9ae9-6502c8ca716d",
   "metadata": {},
   "outputs": [],
   "source": []
  }
 ],
 "metadata": {
  "kernelspec": {
   "display_name": "Python 3.9 (pytorch)",
   "language": "python",
   "name": "pytorch"
  },
  "language_info": {
   "codemirror_mode": {
    "name": "ipython",
    "version": 3
   },
   "file_extension": ".py",
   "mimetype": "text/x-python",
   "name": "python",
   "nbconvert_exporter": "python",
   "pygments_lexer": "ipython3",
   "version": "3.9.16"
  }
 },
 "nbformat": 4,
 "nbformat_minor": 5
}
